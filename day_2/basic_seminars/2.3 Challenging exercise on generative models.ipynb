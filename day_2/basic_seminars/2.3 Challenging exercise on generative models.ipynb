{
 "cells": [
  {
   "cell_type": "markdown",
   "metadata": {},
   "source": [
    "# Build a model to separate decays\n",
    "With the tools we've learned it's possible to build a multivariate statistical model for the Kaggle challenge.\n",
    "1. Separate the dataset into a training and test parts. I suggest using public_train_100000.root , but you are free to experiment.\n",
    "2. Fit separate kernel density estimators for signal and background events on the training part. It has quite a few dimensions - you probably should try to find some good combination of features. I suggest you try something from this list: [u'm_jj', u'm_bb', u'm_wbb', u'm_jlv'] (they were obtained using feature importance of random forest)\n",
    "3. For each element in the test set calculate the signal and background probabilitis - use them to get a score whether the event is signal.\n",
    "4. Compute ROC AUC evaluation of your prediction. I suggest using sklearn.metrics.roc_auc_score\n",
    "5. BONUS. Make your model sklearn-compatible. It should be a class inherited from sklearn.base.BaseEstimator and provide .fit and .predict_proba methods."
   ]
  },
  {
   "cell_type": "code",
   "execution_count": 111,
   "metadata": {
    "collapsed": false
   },
   "outputs": [],
   "source": [
    "import root_pandas\n",
    "events = root_pandas.read_root(\"/notebooks/public_train_100000.root\")\n",
    "import pandas as pd\n",
    "import numpy as np"
   ]
  },
  {
   "cell_type": "code",
   "execution_count": 112,
   "metadata": {
    "collapsed": true
   },
   "outputs": [],
   "source": [
    "from sklearn.neighbors import KNeighborsClassifier\n",
    "from sklearn.cross_validation import cross_val_score\n",
    "from sklearn.cross_validation import train_test_split\n",
    "from sklearn.metrics import roc_auc_score"
   ]
  },
  {
   "cell_type": "code",
   "execution_count": 113,
   "metadata": {
    "collapsed": false
   },
   "outputs": [],
   "source": [
    "train, test = train_test_split(events)\n",
    "from sklearn.neighbors import KernelDensity\n",
    "boolean = train['target'] == 1\n",
    "no_boolean = train['target'] == 0"
   ]
  },
  {
   "cell_type": "code",
   "execution_count": 114,
   "metadata": {
    "collapsed": false,
    "scrolled": true
   },
   "outputs": [],
   "source": [
    "kd_signal  = KernelDensity().fit(train[boolean])\n",
    "kd_background  = KernelDensity().fit(train[no_boolean])"
   ]
  },
  {
   "cell_type": "code",
   "execution_count": 116,
   "metadata": {
    "collapsed": false
   },
   "outputs": [
    {
     "data": {
      "text/plain": [
       "array([-0.990254  , -0.60917877, -0.01244022, ..., -1.06056138,\n",
       "       -1.38487901, -1.49518335])"
      ]
     },
     "execution_count": 116,
     "metadata": {},
     "output_type": "execute_result"
    }
   ],
   "source": [
    "likelihood_signal = kd_signal.score_samples(test)\n",
    "likelihood_background = kd_background.score_samples(test)\n",
    "likelihhood_score = -likelihood_signal/likelihood_background\n",
    "likelihhood_score"
   ]
  },
  {
   "cell_type": "code",
   "execution_count": 119,
   "metadata": {
    "collapsed": false
   },
   "outputs": [
    {
     "data": {
      "text/plain": [
       "0.57859228890238357"
      ]
     },
     "execution_count": 119,
     "metadata": {},
     "output_type": "execute_result"
    }
   ],
   "source": [
    "roc_auc_score(test[\"target\"],likelihhood_score )"
   ]
  },
  {
   "cell_type": "code",
   "execution_count": 118,
   "metadata": {
    "collapsed": false
   },
   "outputs": [
    {
     "data": {
      "text/plain": [
       "[<matplotlib.lines.Line2D at 0x7f26314fcd50>]"
      ]
     },
     "execution_count": 118,
     "metadata": {},
     "output_type": "execute_result"
    },
    {
     "data": {
      "image/png": "[encoded data removed]",
      "text/plain": [
       "<matplotlib.figure.Figure at 0x7f2631505450>"
      ]
     },
     "metadata": {},
     "output_type": "display_data"
    }
   ],
   "source": [
    "%matplotlib inline\n",
    "from sklearn.metrics import roc_curve\n",
    "fpr_rt_lm, tpr_rt_lm, _ = roc_curve(test[\"target\"],likelihhood_score)\n",
    "import matplotlib.pyplot as plt\n",
    "plt.figure(1)\n",
    "plt.plot([0, 1], [0, 1], 'k--')\n",
    "plt.plot(fpr_rt_lm, tpr_rt_lm, label='RT + LR')\n"
   ]
  },
  {
   "cell_type": "code",
   "execution_count": null,
   "metadata": {
    "collapsed": true
   },
   "outputs": [],
   "source": []
  }
 ],
 "metadata": {
  "kernelspec": {
   "display_name": "Python 2",
   "language": "python",
   "name": "python2"
  },
  "language_info": {
   "codemirror_mode": {
    "name": "ipython",
    "version": 2
   },
   "file_extension": ".py",
   "mimetype": "text/x-python",
   "name": "python",
   "nbconvert_exporter": "python",
   "pygments_lexer": "ipython2",
   "version": "2.7.11"
  }
 },
 "nbformat": 4,
 "nbformat_minor": 0
}
