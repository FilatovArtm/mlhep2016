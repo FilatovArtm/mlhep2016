{
 "cells": [
  {
   "cell_type": "markdown",
   "metadata": {
    "slideshow": {
     "slide_type": "slide"
    }
   },
   "source": [
    "# Sklearn\n",
    "1. Main Python ML library\n",
    "2. Has numerous features to assist on all steps of the pipeline"
   ]
  },
  {
   "cell_type": "code",
   "execution_count": 4,
   "metadata": {
    "collapsed": true
   },
   "outputs": [],
   "source": [
    "import root_pandas\n",
    "import numpy as np"
   ]
  },
  {
   "cell_type": "code",
   "execution_count": 8,
   "metadata": {
    "collapsed": false
   },
   "outputs": [],
   "source": [
    "data = root_pandas.read_root(\"/notebooks/public_train_10000.root\")\n",
    "features = data[list(set(data.columns) - {\"event_id\", \"target\"})]\n",
    "target = data[\"target\"]"
   ]
  },
  {
   "cell_type": "markdown",
   "metadata": {},
   "source": [
    "## KNN"
   ]
  },
  {
   "cell_type": "code",
   "execution_count": 9,
   "metadata": {
    "collapsed": true
   },
   "outputs": [],
   "source": [
    "from sklearn.neighbors import KNeighborsClassifier\n",
    "from sklearn.cross_validation import cross_val_score\n",
    "from sklearn.cross_validation import train_test_split\n",
    "from sklearn.metrics import roc_auc_score"
   ]
  },
  {
   "cell_type": "code",
   "execution_count": 35,
   "metadata": {
    "collapsed": false
   },
   "outputs": [],
   "source": [
    "cv_score = list()\n",
    "for i in range(10):\n",
    "    trainX, testX, trainY, testY = train_test_split(features, target, random_state=i)\n",
    "    cv_score.append(np.mean(cross_val_score(KNeighborsClassifier(n_neighbors=1), trainX, trainY, scoring='roc_auc', n_jobs=4, cv=4)))"
   ]
  },
  {
   "cell_type": "code",
   "execution_count": 36,
   "metadata": {
    "collapsed": false
   },
   "outputs": [
    {
     "data": {
      "text/plain": [
       "[0.60454439728338838,\n",
       " 0.61790066300841229,\n",
       " 0.61127394255094436,\n",
       " 0.61281485973017413,\n",
       " 0.61735042735042733,\n",
       " 0.61498958882332233,\n",
       " 0.61041987673343612,\n",
       " 0.6121380561374874,\n",
       " 0.61244166049905258,\n",
       " 0.62396134568287276]"
      ]
     },
     "execution_count": 36,
     "metadata": {},
     "output_type": "execute_result"
    }
   ],
   "source": [
    "cv_score"
   ]
  },
  {
   "cell_type": "code",
   "execution_count": 37,
   "metadata": {
    "collapsed": false
   },
   "outputs": [
    {
     "data": {
      "text/plain": [
       "[<matplotlib.lines.Line2D at 0x7f638408b8d0>]"
      ]
     },
     "execution_count": 37,
     "metadata": {},
     "output_type": "execute_result"
    },
    {
     "data": {
      "image/png": "[encoded data removed]",
      "text/plain": [
       "<matplotlib.figure.Figure at 0x7f6384358090>"
      ]
     },
     "metadata": {},
     "output_type": "display_data"
    }
   ],
   "source": [
    "import matplotlib.pyplot as plt\n",
    "%matplotlib inline\n",
    "plt.plot(range(10), cv_score, '-r')"
   ]
  },
  {
   "cell_type": "code",
   "execution_count": 9,
   "metadata": {
    "collapsed": false
   },
   "outputs": [
    {
     "data": {
      "text/plain": [
       "0.62039587934568208"
      ]
     },
     "execution_count": 9,
     "metadata": {},
     "output_type": "execute_result"
    }
   ],
   "source": [
    "knn_clf = KNeighborsClassifier(n_neighbors=1)\n",
    "knn_clf.fit(trainX, trainY)\n",
    "roc_auc_score(testY, knn_clf.predict_proba(testX)[:, 1])"
   ]
  },
  {
   "cell_type": "markdown",
   "metadata": {},
   "source": [
    "How will this compare to cross validation?"
   ]
  },
  {
   "cell_type": "code",
   "execution_count": 10,
   "metadata": {
    "collapsed": false
   },
   "outputs": [],
   "source": [
    "cv_scores = cross_val_score(\n",
    "    KNeighborsClassifier(n_neighbors=1), features, target, scoring='roc_auc', n_jobs=4, cv=4)"
   ]
  },
  {
   "cell_type": "code",
   "execution_count": 11,
   "metadata": {
    "collapsed": false
   },
   "outputs": [
    {
     "data": {
      "text/plain": [
       "(0.61592131519412685, 0.0077340089103426265)"
      ]
     },
     "execution_count": 11,
     "metadata": {},
     "output_type": "execute_result"
    }
   ],
   "source": [
    "np.mean(cv_scores), np.std(cv_scores)"
   ]
  },
  {
   "cell_type": "markdown",
   "metadata": {},
   "source": [
    "**Exercise 0**. How stable is validation using train_test_split compared to cross validation? Use different random seeds for train_test_split and plot the distribution of scores."
   ]
  },
  {
   "cell_type": "code",
   "execution_count": 14,
   "metadata": {
    "collapsed": true
   },
   "outputs": [],
   "source": [
    "def get_mean_cross_val_score(estimator, X, Y, *args, **kwargs):\n",
    "    \"\"\"Returns the mean cross validtion score and its standart deviation\"\"\"\n",
    "    cv_scores = cross_val_score(estimator, X, Y, *args, **kwargs)\n",
    "    return (np.mean(cv_scores), np.std(cv_scores))"
   ]
  },
  {
   "cell_type": "markdown",
   "metadata": {},
   "source": [
    "Increasing the number of neighbours yields an improvement. "
   ]
  },
  {
   "cell_type": "code",
   "execution_count": 15,
   "metadata": {
    "collapsed": false
   },
   "outputs": [
    {
     "data": {
      "text/plain": [
       "(0.72205637475411921, 0.0064299537459681574)"
      ]
     },
     "execution_count": 15,
     "metadata": {},
     "output_type": "execute_result"
    }
   ],
   "source": [
    "get_mean_cross_val_score(KNeighborsClassifier(n_neighbors=10, p= 3), features, target, scoring='roc_auc', n_jobs=4, cv=4)"
   ]
  },
  {
   "cell_type": "markdown",
   "metadata": {},
   "source": [
    "**Exercise 1.** Try different distance metrics for KNN 0 find the best one."
   ]
  },
  {
   "cell_type": "markdown",
   "metadata": {},
   "source": [
    "## Decision tree"
   ]
  },
  {
   "cell_type": "code",
   "execution_count": 2,
   "metadata": {
    "collapsed": true
   },
   "outputs": [],
   "source": [
    "from sklearn.tree import DecisionTreeClassifier"
   ]
  },
  {
   "cell_type": "markdown",
   "metadata": {},
   "source": [
    "One of the few advantages of the decision tree is its interpretability"
   ]
  },
  {
   "cell_type": "code",
   "execution_count": 17,
   "metadata": {
    "collapsed": false
   },
   "outputs": [
    {
     "data": {
      "text/plain": [
       "[<matplotlib.lines.Line2D at 0x7f6385486f90>]"
      ]
     },
     "execution_count": 17,
     "metadata": {},
     "output_type": "execute_result"
    },
    {
     "data": {
      "image/png": "[encoded data removed]",
      "text/plain": [
       "<matplotlib.figure.Figure at 0x7f638f1e29d0>"
      ]
     },
     "metadata": {},
     "output_type": "display_data"
    }
   ],
   "source": [
    "tree = DecisionTreeClassifier(max_depth=3).fit(features, target)\n",
    "validation_score = list()\n",
    "for i in range(10):\n",
    "    tree = DecisionTreeClassifier(max_depth=i + 1).fit(features, target)\n",
    "    validation_score.append(get_mean_cross_val_score(tree, features, target, scoring='roc_auc', n_jobs=4, cv=4)[0])\n",
    "    \n",
    "plt.plot(range(1, 11), validation_score)"
   ]
  },
  {
   "cell_type": "code",
   "execution_count": 64,
   "metadata": {
    "collapsed": false
   },
   "outputs": [
    {
     "data": {
      "text/plain": [
       "array([ 0.03908256,  0.02679735,  0.07026433,  0.01889634,  0.03832675,\n",
       "        0.02204103,  0.0236637 ,  0.02642152,  0.00679809,  0.05476825,\n",
       "        0.06987625,  0.03137108,  0.00608527,  0.02172745,  0.00260272,\n",
       "        0.04853709,  0.09312342,  0.01004894,  0.03238976,  0.20980097,\n",
       "        0.03500025,  0.01023566,  0.00850198,  0.02848606,  0.02182924,\n",
       "        0.0128245 ,  0.02002793,  0.01047152])"
      ]
     },
     "execution_count": 64,
     "metadata": {},
     "output_type": "execute_result"
    }
   ],
   "source": [
    "list(tree.feature_importances_).index(max(tree.feature_importances_))\n",
    "tree.feature_importances_"
   ]
  },
  {
   "cell_type": "code",
   "execution_count": 88,
   "metadata": {
    "collapsed": false
   },
   "outputs": [],
   "source": [
    "sorted_importance = list()\n",
    "for i in range(len(list(tree.feature_importances_))):\n",
    "    sorted_importance.append((tree.feature_importances_[i], i))\n",
    "sorted_importance = sorted(sorted_importance, key=lambda x: -x[0])\n",
    "importance_validation_score = list()\n",
    "numbers_list = [x[1] for x in sorted_importance]\n",
    "\n"
   ]
  },
  {
   "cell_type": "code",
   "execution_count": 94,
   "metadata": {
    "collapsed": true
   },
   "outputs": [],
   "source": [
    "for i in range(len(list(tree.feature_importances_))):\n",
    "    tree = DecisionTreeClassifier(max_depth=6).fit(features[:][numbers_list[:i+1]], target)\n",
    "    importance_validation_score.append(get_mean_cross_val_score(tree, features[:][numbers_list[:i+1]], target, scoring='roc_auc', n_jobs=4, cv=4)[0])"
   ]
  },
  {
   "cell_type": "code",
   "execution_count": 95,
   "metadata": {
    "collapsed": false
   },
   "outputs": [
    {
     "data": {
      "text/plain": [
       "[<matplotlib.lines.Line2D at 0x7f637413f0d0>]"
      ]
     },
     "execution_count": 95,
     "metadata": {},
     "output_type": "execute_result"
    },
    {
     "data": {
      "image/png": "[encoded data removed]",
      "text/plain": [
       "<matplotlib.figure.Figure at 0x7f6374245910>"
      ]
     },
     "metadata": {},
     "output_type": "display_data"
    }
   ],
   "source": [
    "plt.plot(range(1, 29), importance_validation_score)"
   ]
  },
  {
   "cell_type": "markdown",
   "metadata": {},
   "source": [
    "**Exercise 2.** Plot cross validation score of a DecisionTreeClassifier as a function of max_depth."
   ]
  },
  {
   "cell_type": "markdown",
   "metadata": {},
   "source": [
    "## Linear regression + Ridge regularization¶"
   ]
  },
  {
   "cell_type": "code",
   "execution_count": 47,
   "metadata": {
    "collapsed": false
   },
   "outputs": [
    {
     "name": "stdout",
     "output_type": "stream",
     "text": [
      "0.681684732426\n",
      "0.675638178257\n"
     ]
    }
   ],
   "source": [
    "from sklearn.linear_model import Ridge\n",
    "\n",
    "ridge_clf = Ridge()\n",
    "ridge_clf.fit(trainX, trainY)\n",
    "print roc_auc_score(testY, ridge_clf.predict(testX))\n",
    "print roc_auc_score(trainY, ridge_clf.predict(trainX))"
   ]
  },
  {
   "cell_type": "code",
   "execution_count": 48,
   "metadata": {
    "collapsed": false
   },
   "outputs": [],
   "source": [
    "alpha = np.logspace(-5,10,20)\n",
    "train_score = list()\n",
    "test_score = list()\n",
    "\n",
    "for i in alpha:\n",
    "    ridge_clf = Ridge(alpha = i)\n",
    "    ridge_clf.fit(trainX, trainY)\n",
    "    test_score.append(roc_auc_score(testY, ridge_clf.predict(testX)))\n",
    "    train_score.append(roc_auc_score(trainY, ridge_clf.predict(trainX)))"
   ]
  },
  {
   "cell_type": "code",
   "execution_count": 51,
   "metadata": {
    "collapsed": false
   },
   "outputs": [
    {
     "data": {
      "text/plain": [
       "[0.67563953345719396,\n",
       " 0.67563953345719396,\n",
       " 0.67563953345719396,\n",
       " 0.67563949779401855,\n",
       " 0.67563928381496696,\n",
       " 0.67563906983591515,\n",
       " 0.67563792861430594,\n",
       " 0.6756422081953406,\n",
       " 0.67566563890150577,\n",
       " 0.67570879134360584,\n",
       " 0.67574024626421114,\n",
       " 0.67535647483492234,\n",
       " 0.67424956120029123,\n",
       " 0.67323276840961643,\n",
       " 0.67194596971882581,\n",
       " 0.66549885221636651,\n",
       " 0.63169287244337835,\n",
       " 0.58629714529120558,\n",
       " 0.57205958546266267,\n",
       " 0.56934533251774033]"
      ]
     },
     "execution_count": 51,
     "metadata": {},
     "output_type": "execute_result"
    }
   ],
   "source": [
    "train_score"
   ]
  },
  {
   "cell_type": "code",
   "execution_count": 50,
   "metadata": {
    "collapsed": false
   },
   "outputs": [
    {
     "data": {
      "text/plain": [
       "[<matplotlib.lines.Line2D at 0x7f638410f2d0>]"
      ]
     },
     "execution_count": 50,
     "metadata": {},
     "output_type": "execute_result"
    },
    {
     "data": {
      "image/png": "[encoded data removed]",
      "text/plain": [
       "<matplotlib.figure.Figure at 0x7f6385465bd0>"
      ]
     },
     "metadata": {},
     "output_type": "display_data"
    }
   ],
   "source": [
    "plt.plot(alpha, train_score)\n",
    "plt.plot(alpha, test_score)"
   ]
  },
  {
   "cell_type": "markdown",
   "metadata": {},
   "source": [
    "**Exercise 3.** Plot how regularization parametera alpha of RidgeClassifier, affects quality on train and test."
   ]
  },
  {
   "cell_type": "markdown",
   "metadata": {},
   "source": [
    "**Exercise 4.** Find the most important features for Decision tree - use feature\\_importances_ . Verify whether they make sense. Take first N features by importance, cross-validate the Decision tree, plot the dependance of the score on N. Alternative"
   ]
  },
  {
   "cell_type": "markdown",
   "metadata": {},
   "source": [
    "Many thanks to Alexey and Tatiana for the materials inspiraiton."
   ]
  }
 ],
 "metadata": {
  "kernelspec": {
   "display_name": "Python 2",
   "language": "python",
   "name": "python2"
  },
  "language_info": {
   "codemirror_mode": {
    "name": "ipython",
    "version": 2
   },
   "file_extension": ".py",
   "mimetype": "text/x-python",
   "name": "python",
   "nbconvert_exporter": "python",
   "pygments_lexer": "ipython2",
   "version": "2.7.11"
  }
 },
 "nbformat": 4,
 "nbformat_minor": 0
}
